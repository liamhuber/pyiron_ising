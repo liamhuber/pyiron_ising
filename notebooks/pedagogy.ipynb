{
 "cells": [
  {
   "cell_type": "code",
   "execution_count": 1,
   "id": "8813341a-82d7-4c7e-a0c3-1a5d7b5df5c9",
   "metadata": {},
   "outputs": [],
   "source": [
    "from pyiron_base import Project\n",
    "import pyiron_ising\n",
    "import numpy as np"
   ]
  },
  {
   "cell_type": "code",
   "execution_count": 2,
   "id": "670d1148-6de3-4083-951b-245ab63e5d58",
   "metadata": {},
   "outputs": [],
   "source": [
    "pr = Project('pedagogy')\n",
    "pr.remove_jobs_silently(recursive=True)"
   ]
  },
  {
   "cell_type": "code",
   "execution_count": 3,
   "id": "cd0b96ca-e2d9-47cb-8a00-f0f581e738fa",
   "metadata": {},
   "outputs": [],
   "source": [
    "hex_ = pr.ising.model.Hex2D(repetitions=(8, 5))\n",
    "hex_.genome = np.array([\n",
    "    0, 1, 1, 0, 0, 0, 1, 1, 0, 1, 1, 1, 0, 0, 0, 1, 0, 1, 0, 0, 1, 1,\n",
    "    0, 1, 0, 1, 1, 0, 1, 0, 1, 1, 1, 0, 0, 1, 1, 0, 0, 0, 1, 0, 0, 0,\n",
    "    1, 1, 0, 1, 0, 0, 0, 1, 1, 1, 0, 0, 1, 1, 1, 0, 1, 1, 1, 0, 0, 0,\n",
    "    1, 0, 1, 0, 0, 1, 1, 0, 0, 1, 0, 0, 1, 1\n",
    "])"
   ]
  },
  {
   "cell_type": "code",
   "execution_count": 4,
   "id": "cdd06649-a5c2-40b8-9aec-17fb4168322f",
   "metadata": {},
   "outputs": [],
   "source": [
    "def look(model):\n",
    "    view = model.plot3d(particle_size=0.9, show_axes=False, show_cell=True)\n",
    "    view.center_view()\n",
    "    return view\n",
    "\n",
    "def act_then_look(model, mutation, i, j):\n",
    "    model = model.copy()\n",
    "    mutation(model, i, j)\n",
    "    return look(model)"
   ]
  },
  {
   "cell_type": "code",
   "execution_count": 5,
   "id": "17f04766-5a2a-48f3-8afa-ba5224b30b60",
   "metadata": {},
   "outputs": [
    {
     "data": {
      "application/vnd.jupyter.widget-view+json": {
       "model_id": "b14735c0e08d4bbf85174c3b3a57bbdc",
       "version_major": 2,
       "version_minor": 0
      },
      "text/plain": []
     },
     "metadata": {},
     "output_type": "display_data"
    },
    {
     "data": {
      "application/vnd.jupyter.widget-view+json": {
       "model_id": "570308b50018454cbc0b20b71699985f",
       "version_major": 2,
       "version_minor": 0
      },
      "text/plain": [
       "NGLWidget()"
      ]
     },
     "metadata": {},
     "output_type": "display_data"
    }
   ],
   "source": [
    "look(hex_)"
   ]
  },
  {
   "cell_type": "code",
   "execution_count": 6,
   "id": "cac4c300-468b-4ac1-9cde-6ee6ab8f94fb",
   "metadata": {},
   "outputs": [],
   "source": [
    "act_then_look(hex_, pr.ising.mutation.Swap(), 27, 28);"
   ]
  },
  {
   "cell_type": "code",
   "execution_count": 7,
   "id": "08294a9a-08f6-46e8-9f72-844a5e5b93d0",
   "metadata": {},
   "outputs": [
    {
     "name": "stdout",
     "output_type": "stream",
     "text": [
      "[0, 70, 69, 59, 50, 49, 41, 42, 33, 43, 54, 55, 64, 65, 74, 63, 4, 73, 3, 12, 13, 14, 5, 24, 34, 16, 22, 76, 67, 77, 8, 18, 19, 29, 38, 39, 48, 37, 46, 27]\n",
      "[1, 10, 2, 11, 71, 72, 61, 62, 53, 51, 52, 60, 20, 21, 32, 30, 31, 23, 40, 9, 79, 78, 68, 58, 57, 47, 56, 45, 66, 44, 35, 36, 25, 26, 17, 15, 7, 28, 6, 75]\n"
     ]
    }
   ],
   "source": [
    "act_then_look(hex_, pr.ising.mutation.Cluster(), 0, 1);"
   ]
  },
  {
   "cell_type": "code",
   "execution_count": 8,
   "id": "eb226182-9354-4429-9221-fc857483a47f",
   "metadata": {},
   "outputs": [
    {
     "name": "stdout",
     "output_type": "stream",
     "text": [
      "[17, 7, 28, 6, 75]\n",
      "[18, 19, 8, 29, 77, 76, 67]\n"
     ]
    },
    {
     "data": {
      "application/vnd.jupyter.widget-view+json": {
       "model_id": "9e80b64f72a9498ba6f6a846b16cc9ec",
       "version_major": 2,
       "version_minor": 0
      },
      "text/plain": [
       "NGLWidget()"
      ]
     },
     "metadata": {},
     "output_type": "display_data"
    }
   ],
   "source": [
    "act_then_look(hex_, pr.ising.mutation.Cluster(max_like_neighbors=3), 17, 18)"
   ]
  },
  {
   "cell_type": "code",
   "execution_count": 9,
   "id": "96f47643-c71a-4554-bb68-40f6ada607eb",
   "metadata": {},
   "outputs": [
    {
     "name": "stdout",
     "output_type": "stream",
     "text": [
      "[37, 48, 38, 49, 39, 50, 59, 29]\n",
      "[47, 56, 57, 58, 68, 45, 35, 36, 25, 26]\n"
     ]
    },
    {
     "data": {
      "application/vnd.jupyter.widget-view+json": {
       "model_id": "0c2164b9ca89416ab8a2eea6a6a132a5",
       "version_major": 2,
       "version_minor": 0
      },
      "text/plain": [
       "NGLWidget()"
      ]
     },
     "metadata": {},
     "output_type": "display_data"
    }
   ],
   "source": [
    "act_then_look(hex_, pr.ising.mutation.Cluster(min_like_neighbors=3), 37, 47)"
   ]
  },
  {
   "cell_type": "code",
   "execution_count": null,
   "id": "cac7e96d-8346-4224-9a6d-d9bc5d2059d1",
   "metadata": {},
   "outputs": [],
   "source": []
  }
 ],
 "metadata": {
  "kernelspec": {
   "display_name": "Python 3 (ipykernel)",
   "language": "python",
   "name": "python3"
  },
  "language_info": {
   "codemirror_mode": {
    "name": "ipython",
    "version": 3
   },
   "file_extension": ".py",
   "mimetype": "text/x-python",
   "name": "python",
   "nbconvert_exporter": "python",
   "pygments_lexer": "ipython3",
   "version": "3.8.12"
  }
 },
 "nbformat": 4,
 "nbformat_minor": 5
}
